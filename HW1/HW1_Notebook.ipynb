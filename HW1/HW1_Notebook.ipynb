{
 "cells": [
  {
   "cell_type": "markdown",
   "id": "73407421-50bb-4ab1-8f8a-8a8833506f9d",
   "metadata": {},
   "source": [
    "# HW 1\n",
    "\n",
    ">Or Livne\n",
    "\n",
    ">Roy Rubin"
   ]
  },
  {
   "cell_type": "markdown",
   "id": "e28d62c2-259a-4067-b446-c2990cf83f34",
   "metadata": {},
   "source": [
    "## Task 1: CSV and SQL\n",
    "1. Write Python code to create SQLite database “mydb.db” and create a table “mydata” with the schema of the “mydata.csv”\n",
    "2. Write Python code to load “mydata.csv” into “mydata” table.\n",
    "3. Write 2 different SQL statements with different condiJons to retrieve different rows.\n",
    "Explain which parts of the statement are predicate and which parts are projecJon."
   ]
  },
  {
   "cell_type": "markdown",
   "id": "31ce1167-fc65-472a-88a1-35cdcbaa08fd",
   "metadata": {},
   "source": [
    "## Task1.1: \n",
    "Write Python code to create SQLite database “mydb.db” and create a table “mydata” with the schema of the “mydata.csv”"
   ]
  },
  {
   "cell_type": "code",
   "execution_count": null,
   "id": "0464ef8a-b3b9-489a-9c45-ac08d3c4f35a",
   "metadata": {},
   "outputs": [],
   "source": []
  },
  {
   "cell_type": "markdown",
   "id": "bc020637-7039-4416-93e1-947e748e5816",
   "metadata": {},
   "source": [
    "## Task1.2: \n",
    "Write Python code to load “mydata.csv” into “mydata” table."
   ]
  },
  {
   "cell_type": "code",
   "execution_count": null,
   "id": "45304242-ae07-4b4c-a980-ac4c4c3aa445",
   "metadata": {},
   "outputs": [],
   "source": []
  },
  {
   "cell_type": "markdown",
   "id": "3afb4fab-a883-4816-a096-0d2a560c0512",
   "metadata": {},
   "source": [
    "## Task1.3: \n",
    "Write 2 different SQL statements with different condiJons to retrieve different rows."
   ]
  },
  {
   "cell_type": "code",
   "execution_count": null,
   "id": "877b226e-3b67-46fd-b5a1-72ae20afdf25",
   "metadata": {},
   "outputs": [],
   "source": []
  },
  {
   "cell_type": "markdown",
   "id": "c6f5c80c-623e-4e16-a832-da7ea602d81b",
   "metadata": {},
   "source": [
    "## Task 2: CSV and Parquet\n",
    "1. Write Python program that reads “mydata.csv” file and count number of lines\n",
    "2. By using PyArrow, create Parquet file from the “mydata.csv”. Name Parquet file as “mydatapyarrow.parquet”\n",
    "3. By using Dask, create Parquet file from the “mydata.csv”. Name Parquet file as “mydatadask.parquet”\n",
    "4. By using Pandas, create Parquet file from the “mydata.csv”. Name Parquet file as “mydatapandas.parquet”\n",
    "5. Examine generated Parquet files. Why do you think Dask generated Parquet file differently than PyArrow and Pandas? What might be explanaJon for this?"
   ]
  },
  {
   "cell_type": "markdown",
   "id": "24208dd3-ba4c-40dc-8e53-19d296ebac07",
   "metadata": {},
   "source": [
    "## Task 2.1:\n",
    "Write Python program that reads “mydata.csv” file and count number of lines"
   ]
  },
  {
   "cell_type": "markdown",
   "id": "85cea462-4d26-47dc-b7f7-7cfcc4de21a7",
   "metadata": {},
   "source": [
    "## Task 2.2:\n",
    "By using PyArrow, create Parquet file from the “mydata.csv”. Name Parquet file as"
   ]
  },
  {
   "cell_type": "markdown",
   "id": "449d8b99-eb5c-4b9e-9245-5e8aa916203b",
   "metadata": {},
   "source": [
    "## Task 2.3\n",
    "By using Dask, create Parquet file from the “mydata.csv”. Name Parquet file as “mydatadask.parquet”"
   ]
  },
  {
   "cell_type": "markdown",
   "id": "d97fef60-4f9a-45f4-978b-ec88d8dfece4",
   "metadata": {},
   "source": [
    "## Task 2.4\n",
    "By using Pandas, create Parquet file from the “mydata.csv”. Name Parquet file as “mydatapandas.parquet”"
   ]
  },
  {
   "cell_type": "markdown",
   "id": "95bfdf45-5812-45ad-beaa-57130840a762",
   "metadata": {},
   "source": [
    "## Task 2.5\n",
    "Examine generated Parquet files. Why do you think Dask generated Parquet file differently than PyArrow and Pandas? What might be explanaJon for this?"
   ]
  },
  {
   "cell_type": "markdown",
   "id": "1c9c413c-53fa-4e38-b128-be48931c3cd0",
   "metadata": {},
   "source": [
    "## Task 3: Split CSV files\n",
    "1. Write Python code that calculates size of “mydata.csv” in bytes. Define an integer variable “middle” which is the size of “mydata.csv” divided by 2.\n",
    "2. Write a Python funcJon first_chunk that count number of rows by reading the byte range of the CSV file, from 0 Jll the “middle”. Write a funcJon last_chunk that count number of rows by reading byte range of CSV file from the “middle”+1 Jll the end of the file.\n",
    "3. Explain why total number of lines from the first chunk and second chunk is larger than the number of lines calculated in the step (1) of Task 2.\n",
    "4. Suggest an algorithm to resolve the issue from the step (3) and implement it.\n",
    "5. Check the algorithm of step (4) with mulJple chunks. Define a chunk size to be 16MB. Write a funcJon that process “mydata.csv “ in chunks and count number of lines for each chunk. For example, first chunk will be 0-16MB, second chunk 16MB-32BM, and so on, unJl the last chunk, which might be smaller."
   ]
  },
  {
   "cell_type": "markdown",
   "id": "3643196a-3800-4e41-9634-3ba6b63473f7",
   "metadata": {},
   "source": [
    "## Task 3.1\n",
    "Write Python code that calculates size of “mydata.csv” in bytes. Define an integer variable “middle” which is the size of “mydata.csv” divided by 2."
   ]
  },
  {
   "cell_type": "markdown",
   "id": "80e6e684-216b-4ab7-8450-8c93a60a1c64",
   "metadata": {},
   "source": [
    "## Task 3.2\n",
    "Write a Python funcJon first_chunk that count number of rows by reading the byte range of the CSV file, from 0 Jll the “middle”. Write a funcJon last_chunk that count number of rows by reading byte range of CSV file from the “middle”+1 Jll the end of the file."
   ]
  },
  {
   "cell_type": "markdown",
   "id": "ea313a86-5067-4896-9aa1-a673b462f3fb",
   "metadata": {},
   "source": [
    "## Task 3.3\n",
    "Explain why total number of lines from the first chunk and second chunk is larger than the number of lines calculated in the step (1) of Task 2."
   ]
  },
  {
   "cell_type": "markdown",
   "id": "934f2155-0345-4445-ac2a-1249ba5ab5fc",
   "metadata": {},
   "source": [
    "## Task 3.4\n",
    "Suggest an algorithm to resolve the issue from the step (3) and implement it."
   ]
  },
  {
   "cell_type": "markdown",
   "id": "5c524939-5f65-4db0-a886-3af7b6cf743d",
   "metadata": {},
   "source": [
    "## Task 3.5\n",
    "Check the algorithm of step (4) with mulJple chunks. Define a chunk size to be 16MB. Write a funcJon that process “mydata.csv “ in chunks and count number of lines for each chunk. For example, first chunk will be 0-16MB, second chunk 16MB-32BM, and so on, unJl the last chunk, which might be smaller."
   ]
  },
  {
   "cell_type": "code",
   "execution_count": null,
   "id": "0e28de5c-406c-4de9-9f45-67283cc80f8e",
   "metadata": {},
   "outputs": [],
   "source": []
  },
  {
   "cell_type": "code",
   "execution_count": null,
   "id": "e8382643-5d86-4a3b-a090-d9f5ebddca80",
   "metadata": {},
   "outputs": [],
   "source": []
  },
  {
   "cell_type": "code",
   "execution_count": null,
   "id": "84aec719-90f9-4f61-9868-165f38c5ba2b",
   "metadata": {},
   "outputs": [],
   "source": []
  },
  {
   "cell_type": "code",
   "execution_count": null,
   "id": "ee26a20c-c9b9-4392-b243-2bd83ea41894",
   "metadata": {},
   "outputs": [],
   "source": []
  },
  {
   "cell_type": "code",
   "execution_count": null,
   "id": "0a62cf2d-1d0b-4b29-9a39-3c5296795891",
   "metadata": {},
   "outputs": [],
   "source": []
  }
 ],
 "metadata": {
  "kernelspec": {
   "display_name": "Python 3 (ipykernel)",
   "language": "python",
   "name": "python3"
  },
  "language_info": {
   "codemirror_mode": {
    "name": "ipython",
    "version": 3
   },
   "file_extension": ".py",
   "mimetype": "text/x-python",
   "name": "python",
   "nbconvert_exporter": "python",
   "pygments_lexer": "ipython3",
   "version": "3.10.0"
  }
 },
 "nbformat": 4,
 "nbformat_minor": 5
}
